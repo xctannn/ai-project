{
 "cells": [
  {
   "attachments": {},
   "cell_type": "markdown",
   "metadata": {},
   "source": [
    "#### **Question 2**"
   ]
  },
  {
   "cell_type": "code",
   "execution_count": null,
   "metadata": {},
   "outputs": [],
   "source": [
    "import constraint \n",
    "\n",
    "dodol = constraint.Problem()\n",
    "teams = ['A','B','C','D','E','F','G'] # 7 teams\n",
    "time_slots = range(1,25) # 24 time slots in 4 days(Each 4 hours)\n",
    "\n",
    "for time_slot in time_slots:\n",
    "    dodol.addVariable(time_slot,teams)\n",
    "\n",
    "# Constraint 1: Each team works only 4 hours in a day\n",
    "# (Additional) Constraint 3: Each team will only work after 24 hours have passed\n",
    "start = 1\n",
    "end = 7\n",
    "while(end <= 25):\n",
    "    dodol.addConstraint(constraint.AllDifferentConstraint(),range(start,end))\n",
    "    start += 1\n",
    "    end += 1\n",
    "\n",
    "# Constraint 2: Each team works at least 8 hours (works at least 2 slots)\n",
    "def team_hours_sum_constraint(*slots):\n",
    "    for team in teams:\n",
    "        if slots.count(team) < 2:\n",
    "            return False\n",
    "    return True\n",
    "\n",
    "# (Additional) Constraint 4: Balance workload distribution among teams \n",
    "# Each team need to work at least mean slots to ensure more balanced distribution\n",
    "mean_hours = int(len(time_slots)/len(teams)) # mean is 3 slots\n",
    "def balance_workload(*slots):\n",
    "    for team in teams:\n",
    "        if slots.count(team) < mean_hours:\n",
    "            return False\n",
    "    return True\n",
    "\n",
    "dodol.addConstraint(team_hours_sum_constraint, time_slots)\n",
    "dodol.addConstraint(balance_workload, time_slots)\n",
    "\n",
    "# Get Solution\n",
    "solutions = dodol.getSolutions()\n",
    "\n",
    "# for s in solutions:\n",
    "#     print(s)\n",
    "\n",
    "len(solutions)"
   ]
  }
 ],
 "metadata": {
  "kernelspec": {
   "display_name": "Python 3",
   "language": "python",
   "name": "python3"
  },
  "language_info": {
   "name": "python",
   "version": "3.10.4"
  },
  "orig_nbformat": 4
 },
 "nbformat": 4,
 "nbformat_minor": 2
}
