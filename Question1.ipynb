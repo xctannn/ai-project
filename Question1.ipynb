{
  "cells": [
    {
      "cell_type": "markdown",
      "metadata": {
        "id": "p2hN3_m6KbhE"
      },
      "source": [
        "### Overview of the scenario\n",
        "\n",
        "As the year-end holiday school is coming soon. Which is a good time to reward students in the class for their effort of studying, achieving good grades, participation of the classes, and their cooperation with the teacher. Rewarding them might be able to motivate them to put more effort in studying and hardworking. The scenario involves a kindergarten teacher who wants to reward all 25 students in her class with an amazing holiday set by November 2023. There are 25 students in the class consisting of 15 girls and 10 boys. The teacher has a budget of RM 200.00 for all the holiday sets. Each holiday set should be wrapped using a blue wrapper for boys and a pink wrapper for girls, costing RM 1.00 each. Each holiday set should contain at least two stationery items."
      ]
    },
    {
      "cell_type": "markdown",
      "metadata": {
        "id": "EyrUcEx_LS7r"
      },
      "source": [
        "Import libraries needed"
      ]
    },
    {
      "cell_type": "code",
      "execution_count": 1,
      "metadata": {
        "id": "PnOs_Kg6KJ84"
      },
      "outputs": [],
      "source": [
        "import random\n",
        "import matplotlib.pyplot as plt"
      ]
    },
    {
      "cell_type": "markdown",
      "metadata": {
        "id": "uFt-VtRtLaOj"
      },
      "source": [
        "Variable Declaration"
      ]
    },
    {
      "cell_type": "code",
      "execution_count": 2,
      "metadata": {
        "id": "NF-Cp-0DLmwT"
      },
      "outputs": [],
      "source": [
        "#The first 4 items are stationary\n",
        "\n",
        "items = [\n",
        "    \"Mini sketch book\",\n",
        "    \"2B pencil\",\n",
        "    \"Color pencil\",\n",
        "    \"Magic pen\",\n",
        "    \"Potato chip\",\n",
        "    \"Milo packet\",\n",
        "    \"Chipsmore Biscuit\",\n",
        "    \"Milk biscuit\"\n",
        "]\n",
        "\n",
        "Price = [2, 1, 3, 3, 2, 1, 2, 3]\n",
        "\n",
        "List_Num = len(Price)\n",
        "Total_Set = 25\n",
        "Wrapper = 1 * Total_Set\n",
        "Budget = 200 - Wrapper\n",
        "Maxprice_Set = Budget / Total_Set\n",
        "Generation=100"
      ]
    },
    {
      "cell_type": "markdown",
      "metadata": {
        "id": "gxOO916fN5DL"
      },
      "source": [
        "Function to generate item set"
      ]
    },
    {
      "cell_type": "code",
      "execution_count": 3,
      "metadata": {
        "id": "fZpCOxUUN4Ap"
      },
      "outputs": [],
      "source": [
        "def sets():\n",
        "    stationary = random.sample(range(4),2)\n",
        "    stationary_price = sum(Price[i] for i in stationary)\n",
        "    remaining_budget = Maxprice_Set - stationary_price\n",
        "    other_items = [i for i in range(len(items)) if i not in stationary]\n",
        "\n",
        "    random.shuffle(other_items)\n",
        "    selected_items = []\n",
        "    selected_price = 0\n",
        "\n",
        "    for item in other_items:\n",
        "        item_price = Price[item]\n",
        "        if selected_price + item_price <= remaining_budget:\n",
        "\n",
        "            selected_items.append(item)\n",
        "            selected_price += item_price\n",
        "            if selected_price + item_price >= remaining_budget:\n",
        "                break\n",
        "\n",
        "    sets_item = [items[i] for i in stationary]\n",
        "    sets_item.extend([items[i] for i in selected_items])\n",
        "\n",
        "    return sets_item"
      ]
    },
    {
      "cell_type": "markdown",
      "metadata": {
        "id": "IpQn1q9rPIsj"
      },
      "source": [
        "The collection of all sets"
      ]
    },
    {
      "cell_type": "code",
      "execution_count": 4,
      "metadata": {
        "id": "RmrWyUBoPPxr"
      },
      "outputs": [],
      "source": [
        "def population():\n",
        "    return [sets() for _ in range(Total_Set)]"
      ]
    },
    {
      "cell_type": "markdown",
      "metadata": {
        "id": "ZMVSSh94PVih"
      },
      "source": [
        "Function to calculate price and fitness of each set"
      ]
    },
    {
      "cell_type": "code",
      "execution_count": 5,
      "metadata": {
        "id": "56VT__eFPWBM"
      },
      "outputs": [],
      "source": [
        "def calculate_price(item_set):\n",
        "    return sum(Price[items.index(item)] for item in item_set)\n",
        "\n",
        "# The higher the fitness value, the lower the price of the item set\n",
        "def calculate_set_fitness(item_set):\n",
        "    unique_items = set(item_set)\n",
        "    if len(unique_items) >= 3:\n",
        "        budget_to_total_price_ratio = Budget/calculate_price(item_set)\n",
        "        return budget_to_total_price_ratio\n",
        "    return 0"
      ]
    },
    {
      "cell_type": "markdown",
      "metadata": {
        "id": "vzfvf-POPgzB"
      },
      "source": [
        "Selection Methods"
      ]
    },
    {
      "cell_type": "code",
      "execution_count": 6,
      "metadata": {
        "id": "Fh7abKUkPghT"
      },
      "outputs": [],
      "source": [
        "def roulette_wheel_selection(population):\n",
        "    fitness_scores = [calculate_set_fitness(item_set) for item_set in population]\n",
        "    total_fitness = sum(fitness_scores)\n",
        "    probabilities = [score / total_fitness for score in fitness_scores]\n",
        "    return random.choices(population, probabilities, k=2)\n",
        "\n",
        "\n",
        "def tournament_selection(population):\n",
        "    k = 5\n",
        "    selected_parents = random.choices(population, k=k)\n",
        "    selected_parents.sort(key=lambda x: calculate_set_fitness(x), reverse=True)\n",
        "    return selected_parents[:2]"
      ]
    },
    {
      "cell_type": "markdown",
      "metadata": {
        "id": "gOcOhpoAPpAB"
      },
      "source": [
        "Crossover Methods"
      ]
    },
    {
      "cell_type": "code",
      "execution_count": 7,
      "metadata": {
        "id": "0Jli31Q_Prst"
      },
      "outputs": [],
      "source": [
        "def single_point_crossover(parent1, parent2):\n",
        "    crossover_point = random.randint(1, len(parent1) - 1)\n",
        "    child1 = parent1[:crossover_point] + parent2[crossover_point:]\n",
        "    child2 = parent2[:crossover_point] + parent1[crossover_point:]\n",
        "    return child1, child2\n",
        "\n",
        "\n",
        "def uniform_crossover(parent1, parent2):\n",
        "    child1 = []\n",
        "    child2 = []\n",
        "    min_length = min(len(parent1), len(parent2))\n",
        "\n",
        "    for i in range(min_length):\n",
        "        if random.random() < 0.5:\n",
        "            child1.append(parent1[i])\n",
        "            child2.append(parent2[i])\n",
        "        else:\n",
        "            child1.append(parent2[i])\n",
        "            child2.append(parent1[i])\n",
        "\n",
        "    if len(parent1) > len(parent2):\n",
        "        child1.extend(parent1[min_length:])\n",
        "    else:\n",
        "        child2.extend(parent2[min_length:])\n",
        "\n",
        "    return child1, child2\n"
      ]
    },
    {
      "cell_type": "markdown",
      "metadata": {
        "id": "DWBJdCQxPuZG"
      },
      "source": [
        "Mutation Methods"
      ]
    },
    {
      "cell_type": "code",
      "execution_count": 8,
      "metadata": {
        "id": "2Ql0iOwrQGgj"
      },
      "outputs": [],
      "source": [
        "def swap_mutation(item_set, mutation_rate):\n",
        "    mutated_set = item_set[:]\n",
        "    for i in range(len(item_set)):\n",
        "        if random.random() < mutation_rate:\n",
        "            available_items = [item for item in items if item not in mutated_set]\n",
        "            if available_items and len(mutated_set) > i:\n",
        "                mutated_set[i] = random.choice(available_items)\n",
        "    return mutated_set\n",
        "\n",
        "\n",
        "def random_reset_mutation(item_set, mutation_rate):\n",
        "    mutated_set = item_set[:]\n",
        "    non_stationary_items = item_set[2:]  # Exclude the first 2 stationary items\n",
        "    for i in range(len(non_stationary_items)):\n",
        "        if random.random() < mutation_rate:\n",
        "            mutated_set[i] = random.choice(non_stationary_items)\n",
        "    return mutated_set"
      ]
    },
    {
      "cell_type": "markdown",
      "metadata": {
        "id": "XdclRdwxQJ-C"
      },
      "source": [
        "Genetic Algorithm Function"
      ]
    },
    {
      "cell_type": "code",
      "execution_count": 9,
      "metadata": {
        "id": "DJFF89pWQMOR"
      },
      "outputs": [],
      "source": [
        "def genetic_algo(population, mutation_rate, selection_method, crossover_method, mutation_method):\n",
        "    new_population = []\n",
        "    fitness_history = []\n",
        "\n",
        "    while len(new_population) < Total_Set:\n",
        "        if selection_method == \"roulette_wheel\":\n",
        "            parent1, parent2 = roulette_wheel_selection(population)\n",
        "        elif selection_method == \"tournament\":\n",
        "            parent1, parent2 = tournament_selection(population)\n",
        "\n",
        "        child1 = []\n",
        "        child2 = []\n",
        "\n",
        "        if crossover_method == \"single_point\":\n",
        "            child1, child2 = single_point_crossover(parent1, parent2)\n",
        "        elif crossover_method == \"uniform\":\n",
        "            child1, child2 = uniform_crossover(parent1, parent2)\n",
        "\n",
        "        mutated_child1 = mutation_method(child1, mutation_rate)\n",
        "        mutated_child2 = mutation_method(child2, mutation_rate)\n",
        "        new_population.extend([mutated_child1, mutated_child2])\n",
        "\n",
        "    return new_population[:Total_Set]"
      ]
    },
    {
      "cell_type": "markdown",
      "metadata": {
        "id": "esnUt6JpQOrj"
      },
      "source": [
        "Main function"
      ]
    },
    {
      "cell_type": "code",
      "execution_count": 10,
      "metadata": {
        "colab": {
          "base_uri": "https://localhost:8080/"
        },
        "id": "c84bzsDIQefv",
        "outputId": "046358c5-756d-4b5a-8b67-399feccdf4a8"
      },
      "outputs": [
        {
          "name": "stdout",
          "output_type": "stream",
          "text": [
            "Best Combination:\n",
            "Selection: tournament, Crossover: single_point, Mutation: swap_mutation\n",
            "\n",
            "Holiday Sets:\n",
            "Student 1 - Boy Holiday Set with Blue Wrapper:\n",
            "Items: ['Mini sketch book', 'Color pencil', 'Potato chip']\n",
            "Total Combination of Items: 3\n",
            "Total Price: RM 7\n",
            "\n",
            "Student 2 - Boy Holiday Set with Blue Wrapper:\n",
            "Items: ['Mini sketch book', 'Color pencil', 'Milo packet']\n",
            "Total Combination of Items: 3\n",
            "Total Price: RM 6\n",
            "\n",
            "Student 3 - Boy Holiday Set with Blue Wrapper:\n",
            "Items: ['Mini sketch book', '2B pencil', 'Milo packet']\n",
            "Total Combination of Items: 3\n",
            "Total Price: RM 4\n",
            "\n",
            "Student 4 - Boy Holiday Set with Blue Wrapper:\n",
            "Items: ['Mini sketch book', 'Color pencil', 'Milk biscuit']\n",
            "Total Combination of Items: 3\n",
            "Total Price: RM 8\n",
            "\n",
            "Student 5 - Boy Holiday Set with Blue Wrapper:\n",
            "Items: ['Magic pen', 'Color pencil', 'Chipsmore Biscuit']\n",
            "Total Combination of Items: 3\n",
            "Total Price: RM 8\n",
            "\n",
            "Student 6 - Boy Holiday Set with Blue Wrapper:\n",
            "Items: ['2B pencil', '2B pencil', 'Chipsmore Biscuit']\n",
            "Total Combination of Items: 3\n",
            "Total Price: RM 4\n",
            "\n",
            "Student 7 - Boy Holiday Set with Blue Wrapper:\n",
            "Items: ['Magic pen', 'Magic pen', '2B pencil']\n",
            "Total Combination of Items: 3\n",
            "Total Price: RM 7\n",
            "\n",
            "Student 8 - Boy Holiday Set with Blue Wrapper:\n",
            "Items: ['Color pencil', '2B pencil', 'Chipsmore Biscuit']\n",
            "Total Combination of Items: 3\n",
            "Total Price: RM 6\n",
            "\n",
            "Student 9 - Boy Holiday Set with Blue Wrapper:\n",
            "Items: ['Mini sketch book', 'Color pencil', 'Milo packet']\n",
            "Total Combination of Items: 3\n",
            "Total Price: RM 6\n",
            "\n",
            "Student 10 - Boy Holiday Set with Blue Wrapper:\n",
            "Items: ['Magic pen', 'Color pencil', 'Milo packet']\n",
            "Total Combination of Items: 3\n",
            "Total Price: RM 7\n",
            "\n",
            "Student 11 - Girl Holiday Set with Pink Wrapper:\n",
            "Items: ['Magic pen', '2B pencil', 'Chipsmore Biscuit']\n",
            "Total Combination of Items: 3\n",
            "Total Price: RM 6\n",
            "\n",
            "Student 12 - Girl Holiday Set with Pink Wrapper:\n",
            "Items: ['Color pencil', 'Color pencil', 'Milo packet']\n",
            "Total Combination of Items: 3\n",
            "Total Price: RM 7\n",
            "\n",
            "Student 13 - Girl Holiday Set with Pink Wrapper:\n",
            "Items: ['Magic pen', '2B pencil', 'Chipsmore Biscuit']\n",
            "Total Combination of Items: 3\n",
            "Total Price: RM 6\n",
            "\n",
            "Student 14 - Girl Holiday Set with Pink Wrapper:\n",
            "Items: ['Color pencil', 'Mini sketch book', 'Milk biscuit']\n",
            "Total Combination of Items: 3\n",
            "Total Price: RM 8\n",
            "\n",
            "Student 15 - Girl Holiday Set with Pink Wrapper:\n",
            "Items: ['Mini sketch book', 'Magic pen', 'Milo packet']\n",
            "Total Combination of Items: 3\n",
            "Total Price: RM 6\n",
            "\n",
            "Student 16 - Girl Holiday Set with Pink Wrapper:\n",
            "Items: ['Color pencil', '2B pencil', 'Milk biscuit']\n",
            "Total Combination of Items: 3\n",
            "Total Price: RM 7\n",
            "\n",
            "Student 17 - Girl Holiday Set with Pink Wrapper:\n",
            "Items: ['Color pencil', 'Color pencil', 'Magic pen']\n",
            "Total Combination of Items: 3\n",
            "Total Price: RM 9\n",
            "\n",
            "Student 18 - Girl Holiday Set with Pink Wrapper:\n",
            "Items: ['2B pencil', 'Mini sketch book', '2B pencil']\n",
            "Total Combination of Items: 3\n",
            "Total Price: RM 4\n",
            "\n",
            "Student 19 - Girl Holiday Set with Pink Wrapper:\n",
            "Items: ['Mini sketch book', 'Mini sketch book', '2B pencil']\n",
            "Total Combination of Items: 3\n",
            "Total Price: RM 5\n",
            "\n",
            "Student 20 - Girl Holiday Set with Pink Wrapper:\n",
            "Items: ['Color pencil', 'Color pencil', 'Milo packet']\n",
            "Total Combination of Items: 3\n",
            "Total Price: RM 7\n",
            "\n",
            "Student 21 - Girl Holiday Set with Pink Wrapper:\n",
            "Items: ['2B pencil', '2B pencil', 'Milk biscuit']\n",
            "Total Combination of Items: 3\n",
            "Total Price: RM 5\n",
            "\n",
            "Student 22 - Girl Holiday Set with Pink Wrapper:\n",
            "Items: ['Mini sketch book', 'Mini sketch book', 'Chipsmore Biscuit']\n",
            "Total Combination of Items: 3\n",
            "Total Price: RM 6\n",
            "\n",
            "Student 23 - Girl Holiday Set with Pink Wrapper:\n",
            "Items: ['2B pencil', 'Color pencil', 'Milo packet']\n",
            "Total Combination of Items: 3\n",
            "Total Price: RM 5\n",
            "\n",
            "Student 24 - Girl Holiday Set with Pink Wrapper:\n",
            "Items: ['Mini sketch book', 'Mini sketch book', 'Chipsmore Biscuit']\n",
            "Total Combination of Items: 3\n",
            "Total Price: RM 6\n",
            "\n",
            "Student 25 - Girl Holiday Set with Pink Wrapper:\n",
            "Items: ['2B pencil', 'Mini sketch book', 'Chipsmore Biscuit']\n",
            "Total Combination of Items: 3\n",
            "Total Price: RM 5\n",
            "\n",
            "Total Price of Best Combination: RM 155\n"
          ]
        }
      ],
      "source": [
        "def main():\n",
        "\n",
        "    all_sets = population()\n",
        "\n",
        "    selection_methods = [\"roulette_wheel\", \"tournament\"]\n",
        "    crossover_methods = [\"single_point\", \"uniform\"]\n",
        "    mutation_methods = [swap_mutation, random_reset_mutation]\n",
        "\n",
        "    best_price = float('inf')\n",
        "    best_item_set = []\n",
        "    best_selection = \"\"\n",
        "    best_crossover = \"\"\n",
        "    best_mutation = \"\"\n",
        "\n",
        "    for selection_method in selection_methods:\n",
        "        for crossover_method in crossover_methods:\n",
        "            for mutation_method in mutation_methods:\n",
        "                allsets= genetic_algo(all_sets, 0.01, selection_method, crossover_method, mutation_method)\n",
        "\n",
        "                total_price = 0\n",
        "                # Calculate total price\n",
        "                for item_set in allsets:\n",
        "                    price = calculate_price(item_set)\n",
        "                    total_price += price\n",
        "\n",
        "                # Update best item set if current combination is more efficient\n",
        "                if total_price < best_price:\n",
        "                    best_price = total_price\n",
        "                    best_item_set = allsets\n",
        "                    best_selection = selection_method\n",
        "                    best_crossover = crossover_method\n",
        "                    best_mutation = mutation_method.__name__\n",
        "\n",
        "    print(\"Best Combination:\")\n",
        "    print(f\"Selection: {best_selection}, Crossover: {best_crossover}, Mutation: {best_mutation}\")\n",
        "    print()\n",
        "    print(\"Holiday Sets:\")\n",
        "    for i, item_set in enumerate(best_item_set):\n",
        "        total_items = len(item_set)\n",
        "        total_set_price = calculate_price(item_set)\n",
        "        if i < 10:\n",
        "            print(f\"Student {i + 1} - Boy Holiday Set with Blue Wrapper:\")\n",
        "        else:\n",
        "            print(f\"Student {i + 1} - Girl Holiday Set with Pink Wrapper:\")\n",
        "        print(\"Items:\", item_set)\n",
        "        print(\"Total Combination of Items:\", total_items)\n",
        "        print(\"Total Price: RM\", total_set_price)\n",
        "        print()\n",
        "    print(\"Total Price of Best Combination: RM\", best_price)\n",
        "\n",
        "if __name__ == '__main__':\n",
        "    main()"
      ]
    },
    {
      "cell_type": "markdown",
      "metadata": {
        "id": "wOHqbTWsesLe"
      },
      "source": [
        "Function to calculate average fitness of each sets generated"
      ]
    },
    {
      "cell_type": "code",
      "execution_count": 11,
      "metadata": {
        "id": "YUHMClpuipj5"
      },
      "outputs": [],
      "source": [
        "def grade(population):\n",
        "    return sum(calculate_set_fitness(item_set) for item_set in population) / len(population)"
      ]
    },
    {
      "cell_type": "markdown",
      "metadata": {
        "id": "f3FOHmUdfSee"
      },
      "source": [
        "Graphs of Comparison of Selection Methods, Crossover Methods and Mutation Methods"
      ]
    },
    {
      "cell_type": "code",
      "execution_count": 12,
      "metadata": {
        "colab": {
          "base_uri": "https://localhost:8080/",
          "height": 1000
        },
        "id": "REPZRHLCsJJc",
        "outputId": "8915253f-2ef5-42e6-d943-6944f006be87"
      },
      "outputs": [
        {
          "data": {
            "image/png": "[encoded data removed]",
            "text/plain": [
              "<Figure size 432x288 with 1 Axes>"
            ]
          },
          "metadata": {
            "needs_background": "light"
          },
          "output_type": "display_data"
        },
        {
          "data": {
            "image/png": "[encoded data removed]",
            "text/plain": [
              "<Figure size 432x288 with 1 Axes>"
            ]
          },
          "metadata": {
            "needs_background": "light"
          },
          "output_type": "display_data"
        },
        {
          "data": {
            "image/png": "[encoded data removed]",
            "text/plain": [
              "<Figure size 432x288 with 1 Axes>"
            ]
          },
          "metadata": {
            "needs_background": "light"
          },
          "output_type": "display_data"
        }
      ],
      "source": [
        "def fitness_his(selection_method, crossover_method, mutation_method):\n",
        "    itemsets = population()\n",
        "    fitness_history = []\n",
        "    for _ in range(Generation):\n",
        "        itemsets = genetic_algo(itemsets, 0.01, selection_method, crossover_method, mutation_method)\n",
        "        fitness = grade(itemsets)\n",
        "        fitness_history.append(fitness)\n",
        "    return fitness_history\n",
        "\n",
        "# Calculate fitness history for each combination\n",
        "fitness_roulette = fitness_his(\"roulette_wheel\", \"single_point\", swap_mutation)\n",
        "fitness_tournament = fitness_his(\"tournament\", \"single_point\", swap_mutation)\n",
        "fitness_singepoint = fitness_his(\"roulette_wheel\", \"single_point\", swap_mutation)\n",
        "fitness_uniform = fitness_his(\"roulette_wheel\", \"uniform\", swap_mutation)\n",
        "fitness_swap = fitness_his(\"roulette_wheel\", \"single_point\", swap_mutation)\n",
        "fitness_randomreset = fitness_his(\"roulette_wheel\", \"single_point\", random_reset_mutation)\n",
        "\n",
        "# Plotting the fitness history for each combination of selection method\n",
        "plt.plot(range(Generation), fitness_roulette, label=\"Roulette Wheel Selection\")\n",
        "plt.plot(range(Generation), fitness_tournament, label=\"Tournament Selection\")\n",
        "plt.xlabel(\"Generation\")\n",
        "plt.ylabel(\"Fitness\")\n",
        "plt.legend()\n",
        "plt.show()\n",
        "\n",
        "# Plotting the fitness history for each combination of crossover method\n",
        "plt.plot(range(Generation), fitness_singepoint, label=\"Single Point Crossover\")\n",
        "plt.plot(range(Generation), fitness_uniform, label=\"Uniform\")\n",
        "plt.xlabel(\"Generation\")\n",
        "plt.ylabel(\"Fitness\")\n",
        "plt.legend()\n",
        "plt.show()\n",
        "\n",
        "# Plotting the fitness history for each combination of mutation method\n",
        "plt.plot(range(Generation), fitness_swap, label=\"Swap Mutation\")\n",
        "plt.plot(range(Generation), fitness_randomreset, label=\"Random Reset Mutation\")\n",
        "plt.xlabel(\"Generation\")\n",
        "plt.ylabel(\"Fitness\")\n",
        "plt.legend()\n",
        "plt.show()\n"
      ]
    }
  ],
  "metadata": {
    "colab": {
      "provenance": []
    },
    "kernelspec": {
      "display_name": "Python 3",
      "name": "python3"
    },
    "language_info": {
      "codemirror_mode": {
        "name": "ipython",
        "version": 3
      },
      "file_extension": ".py",
      "mimetype": "text/x-python",
      "name": "python",
      "nbconvert_exporter": "python",
      "pygments_lexer": "ipython3",
      "version": "3.10.4"
    }
  },
  "nbformat": 4,
  "nbformat_minor": 0
}
